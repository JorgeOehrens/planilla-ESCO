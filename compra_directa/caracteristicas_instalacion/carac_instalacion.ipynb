{
 "cells": [
  {
   "cell_type": "code",
   "execution_count": 1,
   "metadata": {},
   "outputs": [],
   "source": [
    "import pandas as pd\n",
    "import json"
   ]
  },
  {
   "cell_type": "code",
   "execution_count": 2,
   "metadata": {},
   "outputs": [],
   "source": [
    "\n",
    "with open('../variables/factores.json') as archivo_factores:\n",
    "    datos_factores_json=json.load(archivo_factores)\n",
    "datos_factores=pd.DataFrame(datos_factores_json)\n",
    "\n",
    "\n",
    "with open('../input/informacion_energetica.json') as archivo_info_energetica:\n",
    "    datos_info_energetica_json=json.load(archivo_info_energetica)\n",
    "datos_info_energetica=pd.DataFrame(datos_info_energetica_json)"
   ]
  },
  {
   "cell_type": "code",
   "execution_count": 3,
   "metadata": {},
   "outputs": [
    {
     "data": {
      "text/html": [
       "<div>\n",
       "<style scoped>\n",
       "    .dataframe tbody tr th:only-of-type {\n",
       "        vertical-align: middle;\n",
       "    }\n",
       "\n",
       "    .dataframe tbody tr th {\n",
       "        vertical-align: top;\n",
       "    }\n",
       "\n",
       "    .dataframe thead th {\n",
       "        text-align: right;\n",
       "    }\n",
       "</style>\n",
       "<table border=\"1\" class=\"dataframe\">\n",
       "  <thead>\n",
       "    <tr style=\"text-align: right;\">\n",
       "      <th></th>\n",
       "      <th>Potencia kWAC</th>\n",
       "      <th>Combinacion de inversores</th>\n",
       "      <th>Pdc max (kWp)</th>\n",
       "    </tr>\n",
       "  </thead>\n",
       "  <tbody>\n",
       "    <tr>\n",
       "      <th>0</th>\n",
       "      <td>40</td>\n",
       "      <td>GW20KT-MT + GW20KT-MT</td>\n",
       "      <td>50.0</td>\n",
       "    </tr>\n",
       "    <tr>\n",
       "      <th>1</th>\n",
       "      <td>50</td>\n",
       "      <td>GW50KN-MT</td>\n",
       "      <td>62.5</td>\n",
       "    </tr>\n",
       "    <tr>\n",
       "      <th>2</th>\n",
       "      <td>210</td>\n",
       "      <td>GW80K-MT + GW80K-MT + GW50KN-MT</td>\n",
       "      <td>262.5</td>\n",
       "    </tr>\n",
       "  </tbody>\n",
       "</table>\n",
       "</div>"
      ],
      "text/plain": [
       "   Potencia kWAC        Combinacion de inversores  Pdc max (kWp)\n",
       "0             40            GW20KT-MT + GW20KT-MT           50.0\n",
       "1             50                        GW50KN-MT           62.5\n",
       "2            210  GW80K-MT + GW80K-MT + GW50KN-MT          262.5"
      ]
     },
     "execution_count": 3,
     "metadata": {},
     "output_type": "execute_result"
    }
   ],
   "source": [
    "datos_factores\n"
   ]
  },
  {
   "cell_type": "code",
   "execution_count": 4,
   "metadata": {},
   "outputs": [],
   "source": [
    "potencia_peak=260 #Input\n",
    "caracteristica_panel = 540  #Input ? \n"
   ]
  },
  {
   "cell_type": "code",
   "execution_count": 5,
   "metadata": {},
   "outputs": [],
   "source": [
    "\n",
    "potencia_deseada=potencia_peak\n",
    "panel_utilizado=caracteristica_panel\n",
    "\n",
    "cantidad_paneles=round((potencia_deseada*1000/panel_utilizado))\n",
    "\n",
    "potencia_calculada= (panel_utilizado*cantidad_paneles)/1000\n",
    "\n",
    "costo_mantencion_por_vez=840987 #Datos de regiones\n",
    "costo_mantecion_total=3363948 #Datos de regiones\n",
    "\n",
    "costo_administracion_anual=200000 #Input?\n",
    "uf_hoy = 34326 #Data\n",
    "\n",
    "costo_anual_om=costo_administracion_anual + costo_mantecion_total\n",
    "\n",
    "\n",
    "costos_2022=[]\n",
    "costos_2022.append ({\n",
    "    \"Potencia deseada\": potencia_peak,\n",
    "    \"Panel Utilizado\" : caracteristica_panel,\n",
    "    \"Cantidad de Paneles\":cantidad_paneles,\n",
    "    \"Potencia calculada\":potencia_calculada,\n",
    "    \"Costo mantencion por vez\":  costo_mantencion_por_vez,\n",
    "    \"Costo mantencion total\": costo_mantecion_total,\n",
    "    \"Costo de Administracion anual\": costo_administracion_anual,\n",
    "    \"UF \": uf_hoy,\n",
    "    \"Costo Total Anual O&M\": costo_anual_om\n",
    "\n",
    "})\n",
    "with open('../variables/costos2022.json', 'w') as file:\n",
    "    json.dump(costos_2022, file, indent=4)\n"
   ]
  },
  {
   "cell_type": "code",
   "execution_count": 6,
   "metadata": {},
   "outputs": [
    {
     "data": {
      "text/html": [
       "<div>\n",
       "<style scoped>\n",
       "    .dataframe tbody tr th:only-of-type {\n",
       "        vertical-align: middle;\n",
       "    }\n",
       "\n",
       "    .dataframe tbody tr th {\n",
       "        vertical-align: top;\n",
       "    }\n",
       "\n",
       "    .dataframe thead th {\n",
       "        text-align: right;\n",
       "    }\n",
       "</style>\n",
       "<table border=\"1\" class=\"dataframe\">\n",
       "  <thead>\n",
       "    <tr style=\"text-align: right;\">\n",
       "      <th></th>\n",
       "      <th>Potencia deseada</th>\n",
       "      <th>Panel Utilizado</th>\n",
       "      <th>Cantidad de Paneles</th>\n",
       "      <th>Potencia calculada</th>\n",
       "      <th>Costo mantencion por vez</th>\n",
       "      <th>Costo mantencion total</th>\n",
       "      <th>Costo de Administracion anual</th>\n",
       "      <th>UF</th>\n",
       "      <th>Costo Total Anual O&amp;M</th>\n",
       "    </tr>\n",
       "  </thead>\n",
       "  <tbody>\n",
       "    <tr>\n",
       "      <th>0</th>\n",
       "      <td>260</td>\n",
       "      <td>540</td>\n",
       "      <td>481</td>\n",
       "      <td>259.74</td>\n",
       "      <td>840987</td>\n",
       "      <td>3363948</td>\n",
       "      <td>200000</td>\n",
       "      <td>34326</td>\n",
       "      <td>3563948</td>\n",
       "    </tr>\n",
       "  </tbody>\n",
       "</table>\n",
       "</div>"
      ],
      "text/plain": [
       "   Potencia deseada  Panel Utilizado  Cantidad de Paneles  Potencia calculada  \\\n",
       "0               260              540                  481              259.74   \n",
       "\n",
       "   Costo mantencion por vez  Costo mantencion total  \\\n",
       "0                    840987                 3363948   \n",
       "\n",
       "   Costo de Administracion anual    UF   Costo Total Anual O&M  \n",
       "0                         200000  34326                3563948  "
      ]
     },
     "execution_count": 6,
     "metadata": {},
     "output_type": "execute_result"
    }
   ],
   "source": [
    "with open('../variables/costos2022.json') as archivo_costos:\n",
    "    datos_costos_json=json.load(archivo_costos)\n",
    "datos_costos=pd.DataFrame(datos_costos_json)\n",
    "datos_costos"
   ]
  },
  {
   "cell_type": "code",
   "execution_count": 7,
   "metadata": {},
   "outputs": [],
   "source": [
    "#Datos Factores\n",
    "\n",
    "\n",
    "#POTENCIA INVERSORES\n",
    "pontencia_inversores=datos_factores[\"Pdc max (kWp)\"]\n",
    "contador=0\n",
    "potencia_peak=160\n",
    "for a in pontencia_inversores:\n",
    "    potencia_inversor = a\n",
    "\n",
    "    if contador == 0:\n",
    "        if potencia_peak <=a:\n",
    "            inversor = a\n",
    "            break\n",
    "        \n",
    "        potencia_inversor_anterior=a\n",
    "    else:\n",
    "        if potencia_peak <= a and potencia_peak > potencia_inversor_anterior:\n",
    "            inversor = a\n",
    "\n",
    "            break\n",
    "        else:\n",
    "            potencia_inversor_anterior=a\n",
    "    contador +=1\n",
    "\n",
    "\n",
    "pdc_max= inversor\n",
    "\n",
    "for a in datos_factores:\n",
    "    combina_inversores=datos_factores[\"Combinacion de inversores\"][contador]\n",
    "    pontencia_kWac=datos_factores[\"Potencia kWAC\"][contador]\n",
    "\n",
    "    \n",
    "\n",
    "combina_inversores,inversor,pontencia_kWac\n",
    "pontencia_kWac=int(pontencia_kWac)\n"
   ]
  },
  {
   "cell_type": "code",
   "execution_count": 8,
   "metadata": {},
   "outputs": [
    {
     "data": {
      "text/plain": [
       "123.68571428571428"
      ]
     },
     "execution_count": 8,
     "metadata": {},
     "output_type": "execute_result"
    }
   ],
   "source": [
    "sobredimensionamiento= (potencia_calculada/pontencia_kWac) * 100\n",
    "sobredimensionamiento "
   ]
  },
  {
   "cell_type": "markdown",
   "metadata": {},
   "source": [
    "## Generación especifica y generación anual\n"
   ]
  },
  {
   "cell_type": "code",
   "execution_count": 12,
   "metadata": {},
   "outputs": [
    {
     "data": {
      "text/plain": [
       "(1762.13125, 457695.970875)"
      ]
     },
     "execution_count": 12,
     "metadata": {},
     "output_type": "execute_result"
    }
   ],
   "source": [
    "factor_coplanar=0.950\n",
    "aumento_generacion=1.045\n",
    "pes_correj_flux=1775\n",
    "\n",
    "\n",
    "generacion_especifica=factor_coplanar * aumento_generacion * pes_correj_flux\n",
    "\n",
    "generacion_anual= generacion_especifica*potencia_calculada\n",
    "\n",
    "\n",
    "generacion_especifica, generacion_anual\n"
   ]
  },
  {
   "cell_type": "code",
   "execution_count": 10,
   "metadata": {},
   "outputs": [],
   "source": [
    "kwh_total=datos_info_energetica.sum(axis = 0, skipna = True)[\"kWh/Mes\"]\n",
    "kwh_total\n",
    "\n",
    "balance_generacion_consumo=kwh_total*generacion_anual\n",
    "\n",
    "categoria_tipo_montaje=\"Techo coplanar\"\n",
    "\n",
    "suelo=13\n",
    "techo_estructurado=13\n",
    "techo_coplanar=9\n",
    "\n",
    "\n",
    "if categoria_tipo_montaje== \"Suelo\":\n",
    "    \n",
    "    superf_max_paneles= potencia_calculada * suelo #Suelos desde DB\n",
    "elif categoria_tipo_montaje == \"Techo estructurado\":\n",
    "\n",
    "    superf_max_paneles= potencia_calculada * techo_estructurado #Suelos desde DB\n",
    "else:\n",
    "    superf_max_paneles= potencia_calculada * techo_coplanar #Suelos desde DB\n",
    "\n",
    "\n",
    "\n",
    "costo_planta_solar=(potencia_calculada*1000) * 621.8 #Variable desde DB\n",
    "adicionales=22000000\n",
    "\n",
    "costo_total=costo_planta_solar + adicionales\n"
   ]
  },
  {
   "cell_type": "markdown",
   "metadata": {},
   "source": [
    "## Caracteristicas de instalación\n"
   ]
  },
  {
   "cell_type": "code",
   "execution_count": 11,
   "metadata": {},
   "outputs": [
    {
     "data": {
      "text/html": [
       "<div>\n",
       "<style scoped>\n",
       "    .dataframe tbody tr th:only-of-type {\n",
       "        vertical-align: middle;\n",
       "    }\n",
       "\n",
       "    .dataframe tbody tr th {\n",
       "        vertical-align: top;\n",
       "    }\n",
       "\n",
       "    .dataframe thead th {\n",
       "        text-align: right;\n",
       "    }\n",
       "</style>\n",
       "<table border=\"1\" class=\"dataframe\">\n",
       "  <thead>\n",
       "    <tr style=\"text-align: right;\">\n",
       "      <th></th>\n",
       "      <th>Potencia peak deseada</th>\n",
       "      <th>Sobredimensionamiento</th>\n",
       "      <th>Potencia inversores</th>\n",
       "      <th>Combinacion de inversores</th>\n",
       "      <th>Potencia de panel</th>\n",
       "      <th>Cantidad de paneles</th>\n",
       "      <th>Potencia peak</th>\n",
       "      <th>Comuna instalacion</th>\n",
       "      <th>Region/Zona</th>\n",
       "      <th>Generacion especifica</th>\n",
       "      <th>Generacion inicial total</th>\n",
       "      <th>Balance generacion/consumo</th>\n",
       "      <th>Categoria Zona</th>\n",
       "      <th>Categoria Tipo Montaje*</th>\n",
       "      <th>Superficie max. paneles</th>\n",
       "      <th>Costo anual por O&amp;M</th>\n",
       "      <th>Costo Planta Solar</th>\n",
       "      <th>Costos Adicionales*</th>\n",
       "      <th>Costo total</th>\n",
       "    </tr>\n",
       "  </thead>\n",
       "  <tbody>\n",
       "    <tr>\n",
       "      <th>0</th>\n",
       "      <td>160</td>\n",
       "      <td>123.685714</td>\n",
       "      <td>210</td>\n",
       "      <td>262.5</td>\n",
       "      <td>0</td>\n",
       "      <td>481</td>\n",
       "      <td>259.74</td>\n",
       "      <td>Alto del Carmen</td>\n",
       "      <td>Region de Atacama</td>\n",
       "      <td>1762.13125</td>\n",
       "      <td>457695.970875</td>\n",
       "      <td>1.696482e+11</td>\n",
       "      <td>Region Atacama</td>\n",
       "      <td>Techo coplanar</td>\n",
       "      <td>2337.66</td>\n",
       "      <td>3563948</td>\n",
       "      <td>161506332.0</td>\n",
       "      <td>22000000</td>\n",
       "      <td>183506332.0</td>\n",
       "    </tr>\n",
       "  </tbody>\n",
       "</table>\n",
       "</div>"
      ],
      "text/plain": [
       "   Potencia peak deseada  Sobredimensionamiento  Potencia inversores  \\\n",
       "0                    160             123.685714                  210   \n",
       "\n",
       "   Combinacion de inversores  Potencia de panel  Cantidad de paneles  \\\n",
       "0                      262.5                  0                  481   \n",
       "\n",
       "   Potencia peak Comuna instalacion        Region/Zona  Generacion especifica  \\\n",
       "0         259.74    Alto del Carmen  Region de Atacama             1762.13125   \n",
       "\n",
       "   Generacion inicial total  Balance generacion/consumo  Categoria Zona  \\\n",
       "0             457695.970875                1.696482e+11  Region Atacama   \n",
       "\n",
       "  Categoria Tipo Montaje*  Superficie max. paneles  Costo anual por O&M  \\\n",
       "0          Techo coplanar                  2337.66              3563948   \n",
       "\n",
       "   Costo Planta Solar  Costos Adicionales*  Costo total  \n",
       "0         161506332.0             22000000  183506332.0  "
      ]
     },
     "execution_count": 11,
     "metadata": {},
     "output_type": "execute_result"
    }
   ],
   "source": [
    "caracteristicas_instalacion=[]\n",
    "\n",
    "caracteristicas_instalacion.append ({\n",
    "    \"Potencia peak deseada\": potencia_peak,\n",
    "    \"Sobredimensionamiento\" : sobredimensionamiento,\n",
    "    \"Potencia inversores\":pontencia_kWac,\n",
    "    \"Combinacion de inversores\":inversor,\n",
    "    \"Potencia de panel\":  0,\n",
    "    \"Cantidad de paneles\": cantidad_paneles,\n",
    "    \"Potencia peak\": potencia_calculada,\n",
    "    \"Comuna instalacion\": \"Alto del Carmen\",\n",
    "    \"Region/Zona\": \"Region de Atacama\" ,\n",
    "    \"Generacion especifica\":generacion_especifica ,\n",
    "    \"Generacion inicial total\":generacion_anual,\n",
    "    \"Balance generacion/consumo\":balance_generacion_consumo,\n",
    "    \"Categoria Zona\":\"Region Atacama\",\n",
    "    \"Categoria Tipo Montaje*\":categoria_tipo_montaje,\n",
    "    \"Superficie max. paneles\":superf_max_paneles,\n",
    "    \"Costo anual por O&M\":costo_anual_om,\n",
    "    \"Costo Planta Solar\":costo_planta_solar,\n",
    "    \"Costos Adicionales*\":adicionales,\n",
    "    \"Costo total\": costo_total\n",
    "\n",
    "})\n",
    "with open('../variables/caracteristicas_instalacion.json', 'w') as file:\n",
    "    json.dump(caracteristicas_instalacion, file, indent=4)\n",
    "\n",
    "\n",
    "with open('../variables/caracteristicas_instalacion.json') as file:\n",
    "    datos_info_energetica=json.load(file)\n",
    "data_info=pd.DataFrame(datos_info_energetica)\n",
    "\n",
    "data_info"
   ]
  }
 ],
 "metadata": {
  "kernelspec": {
   "display_name": "Python 3.10.8 ('planilla-ESCO-S3Yy4gfm')",
   "language": "python",
   "name": "python3"
  },
  "language_info": {
   "codemirror_mode": {
    "name": "ipython",
    "version": 3
   },
   "file_extension": ".py",
   "mimetype": "text/x-python",
   "name": "python",
   "nbconvert_exporter": "python",
   "pygments_lexer": "ipython3",
   "version": "3.10.8"
  },
  "orig_nbformat": 4,
  "vscode": {
   "interpreter": {
    "hash": "89f4c062cb26b2786505bdc7e8bc156326ca3aeb7d13cde6e2942d25c9166513"
   }
  }
 },
 "nbformat": 4,
 "nbformat_minor": 2
}
