{
 "cells": [
  {
   "cell_type": "code",
   "execution_count": 1,
   "metadata": {},
   "outputs": [],
   "source": [
    "import pandas as pd\n",
    "import json"
   ]
  },
  {
   "cell_type": "code",
   "execution_count": 2,
   "metadata": {},
   "outputs": [],
   "source": [
    "with open('../input/informacion_energetica.json') as archivo_info_energetica:\n",
    "    datos_info_energetica_json=json.load(archivo_info_energetica)\n",
    "datos_info_energetica=pd.DataFrame(datos_info_energetica_json)\n",
    "\n",
    "\n",
    "with open('../variables/desglose_consumo.json') as archivo_consumo:\n",
    "    datos_consumo_json=json.load(archivo_consumo)\n",
    "datos_consumo=pd.DataFrame(datos_consumo_json) \n",
    "\n",
    "\n",
    "\n"
   ]
  },
  {
   "cell_type": "code",
   "execution_count": 3,
   "metadata": {},
   "outputs": [
    {
     "data": {
      "text/plain": [
       "457696.0"
      ]
     },
     "execution_count": 3,
     "metadata": {},
     "output_type": "execute_result"
    }
   ],
   "source": [
    "generacion_anual=datos_consumo[\"2023\"][\"Generacion ano\"]\n",
    "generacion_anual\n"
   ]
  },
  {
   "cell_type": "code",
   "execution_count": 4,
   "metadata": {},
   "outputs": [
    {
     "data": {
      "text/plain": [
       "370657"
      ]
     },
     "execution_count": 4,
     "metadata": {},
     "output_type": "execute_result"
    }
   ],
   "source": [
    "kwh_total=datos_info_energetica.sum(axis = 0, skipna = True)[\"kWh/Mes\"]\n",
    "kwh_total"
   ]
  },
  {
   "cell_type": "code",
   "execution_count": 5,
   "metadata": {},
   "outputs": [
    {
     "data": {
      "text/html": [
       "<div>\n",
       "<style scoped>\n",
       "    .dataframe tbody tr th:only-of-type {\n",
       "        vertical-align: middle;\n",
       "    }\n",
       "\n",
       "    .dataframe tbody tr th {\n",
       "        vertical-align: top;\n",
       "    }\n",
       "\n",
       "    .dataframe thead th {\n",
       "        text-align: right;\n",
       "    }\n",
       "</style>\n",
       "<table border=\"1\" class=\"dataframe\">\n",
       "  <thead>\n",
       "    <tr style=\"text-align: right;\">\n",
       "      <th></th>\n",
       "      <th>Mes</th>\n",
       "      <th>kWh/Mes</th>\n",
       "    </tr>\n",
       "  </thead>\n",
       "  <tbody>\n",
       "    <tr>\n",
       "      <th>0</th>\n",
       "      <td>Enero</td>\n",
       "      <td>61504</td>\n",
       "    </tr>\n",
       "    <tr>\n",
       "      <th>1</th>\n",
       "      <td>Febrero</td>\n",
       "      <td>124678</td>\n",
       "    </tr>\n",
       "    <tr>\n",
       "      <th>2</th>\n",
       "      <td>Marzo</td>\n",
       "      <td>48040</td>\n",
       "    </tr>\n",
       "    <tr>\n",
       "      <th>3</th>\n",
       "      <td>Abril</td>\n",
       "      <td>14128</td>\n",
       "    </tr>\n",
       "    <tr>\n",
       "      <th>4</th>\n",
       "      <td>Mayo</td>\n",
       "      <td>6080</td>\n",
       "    </tr>\n",
       "    <tr>\n",
       "      <th>5</th>\n",
       "      <td>Junio</td>\n",
       "      <td>3381</td>\n",
       "    </tr>\n",
       "    <tr>\n",
       "      <th>6</th>\n",
       "      <td>Julio</td>\n",
       "      <td>7633</td>\n",
       "    </tr>\n",
       "    <tr>\n",
       "      <th>7</th>\n",
       "      <td>Agosto</td>\n",
       "      <td>4703</td>\n",
       "    </tr>\n",
       "    <tr>\n",
       "      <th>8</th>\n",
       "      <td>Septiembre</td>\n",
       "      <td>4573</td>\n",
       "    </tr>\n",
       "    <tr>\n",
       "      <th>9</th>\n",
       "      <td>Octubre</td>\n",
       "      <td>3787</td>\n",
       "    </tr>\n",
       "    <tr>\n",
       "      <th>10</th>\n",
       "      <td>Noviembre</td>\n",
       "      <td>23068</td>\n",
       "    </tr>\n",
       "    <tr>\n",
       "      <th>11</th>\n",
       "      <td>Diciembre</td>\n",
       "      <td>69082</td>\n",
       "    </tr>\n",
       "  </tbody>\n",
       "</table>\n",
       "</div>"
      ],
      "text/plain": [
       "           Mes  kWh/Mes\n",
       "0        Enero    61504\n",
       "1      Febrero   124678\n",
       "2        Marzo    48040\n",
       "3        Abril    14128\n",
       "4         Mayo     6080\n",
       "5        Junio     3381\n",
       "6        Julio     7633\n",
       "7       Agosto     4703\n",
       "8   Septiembre     4573\n",
       "9      Octubre     3787\n",
       "10   Noviembre    23068\n",
       "11   Diciembre    69082"
      ]
     },
     "execution_count": 5,
     "metadata": {},
     "output_type": "execute_result"
    }
   ],
   "source": [
    "datos_info_energetica"
   ]
  },
  {
   "cell_type": "code",
   "execution_count": 6,
   "metadata": {},
   "outputs": [
    {
     "data": {
      "text/plain": [
       "123.48235700391467"
      ]
     },
     "execution_count": 6,
     "metadata": {},
     "output_type": "execute_result"
    }
   ],
   "source": [
    "def dimensionado(generacion_anual:int, kwh_total:int) -> int:\n",
    "    dimensionado=(generacion_anual/kwh_total)*100\n",
    "    return dimensionado\n",
    "\n",
    "\n",
    "dimensionado_cliente=dimensionado(generacion_anual,kwh_total)\n",
    "\n",
    "dimensionado_cliente"
   ]
  },
  {
   "cell_type": "code",
   "execution_count": 7,
   "metadata": {},
   "outputs": [],
   "source": [
    "\n",
    "\n",
    "\n",
    "\n",
    "def autoconsumo(empresa_evaluada:str, jornada_laboral:str, dimensionado:int) -> int:\n",
    "    dimensionado_porcentaje = dimensionado/100\n",
    "\n",
    "    #Hospital\n",
    "    if empresa_evaluada == \"Hospital\" and jornada_laboral == \"horario oficina viernes completo\" :\n",
    "        consumo_recomendado = 1 + -0.387*dimensionado_porcentaje + 0.0643 * (dimensionado_porcentaje**2)    \n",
    "    elif empresa_evaluada == \"Hospital\" and jornada_laboral == \"horario oficina sábado medio día\" :\n",
    "        consumo_recomendado = 1 + -0.276*dimensionado_porcentaje + 0.0207 * (dimensionado_porcentaje**2)    \n",
    "\n",
    "    elif empresa_evaluada == \"Hospital\" and jornada_laboral == \"horario oficina sábado completo\" :\n",
    "        consumo_recomendado = 1 + -0.165*dimensionado_porcentaje + 0.0229 * (dimensionado_porcentaje**2)\n",
    "\n",
    "    elif empresa_evaluada == \"Hospital\" and jornada_laboral == \"horario oficina domingo completo\":  \n",
    "        consumo_recomendado = 1 + 0.58*dimensionado_porcentaje + -0.11 * (dimensionado_porcentaje**2)\n",
    "\n",
    "    elif empresa_evaluada == \"Hospital\" and jornada_laboral == \"24 hrs / 5 dias\":\n",
    "        consumo_recomendado = 0.555 + -0.276*dimensionado_porcentaje + -0.0596 * (dimensionado_porcentaje**2)\n",
    "\n",
    "    elif empresa_evaluada == \"Hospital\" and jornada_laboral == \"24 hrs / 6 dias\":\n",
    "        consumo_recomendado = 0.666 + -0.331*dimensionado_porcentaje + -0.0716 * (dimensionado_porcentaje**2)\n",
    "\n",
    "    elif empresa_evaluada == \"Hospital\" and jornada_laboral == \"24 hrs / 7 dias\":\n",
    "        consumo_recomendado = 0,777 + -0.387*dimensionado_porcentaje + 0.0835 * (dimensionado_porcentaje**2)\n",
    "\n",
    "    #Fabrica\n",
    "    if empresa_evaluada == \"Fabrica\" and jornada_laboral == \"horario oficina viernes completo\" :\n",
    "        consumo_recomendado = 0.954 + -0.511*dimensionado_porcentaje + 0.116 * (dimensionado_porcentaje**2)\n",
    "\n",
    "    elif empresa_evaluada == \"Fabrica\" and jornada_laboral == \"horario oficina sábado medio día\" :\n",
    "        consumo_recomendado = 0.977 + -0.453*dimensionado_porcentaje + 0.0918 * (dimensionado_porcentaje**2)    \n",
    "\n",
    "    elif empresa_evaluada == \"Fabrica\" and jornada_laboral == \"horario oficina sábado completo\" :\n",
    "        consumo_recomendado = 1 + -0.395*dimensionado_porcentaje + 0.0671 * (dimensionado_porcentaje**2)\n",
    "\n",
    "    elif empresa_evaluada == \"Fabrica\" and jornada_laboral == \"horario oficina domingo completo\":  \n",
    "        consumo_recomendado = 1 + - 0.211*dimensionado_porcentaje + (-5/1000) * (dimensionado_porcentaje**2)\n",
    "\n",
    "    elif empresa_evaluada == \"Fabrica\" and jornada_laboral == \"24 hrs / 5 dias\":\n",
    "        consumo_recomendado = 0.477 + -0.255*dimensionado_porcentaje + 0.0582 * (dimensionado_porcentaje**2)\n",
    "\n",
    "    elif empresa_evaluada == \"Fabrica\" and jornada_laboral == \"24 hrs / 6 dias\":\n",
    "        consumo_recomendado = 0.573 + -0.306*dimensionado_porcentaje + 0.0699 * (dimensionado_porcentaje**2)\n",
    "\n",
    "    elif empresa_evaluada == \"Fabrica\" and jornada_laboral == \"24 hrs / 7 dias\":\n",
    "        consumo_recomendado = 0.668 + -0.358*dimensionado_porcentaje + 0.0815 * (dimensionado_porcentaje**2)\n",
    "\n",
    "    \n",
    "    #Oficina\n",
    "    \n",
    "    if empresa_evaluada == \"Oficina\" and jornada_laboral == \"horario oficina viernes completo\" :\n",
    "        consumo_recomendado = 0.761 + -0.207*dimensionado_porcentaje + 0.0205 * (dimensionado_porcentaje**2)\n",
    "\n",
    "    elif empresa_evaluada == \"Oficina\" and jornada_laboral == \"horario oficina sábado medio día\" :\n",
    "        consumo_recomendado = 0.836 + -0.227*dimensionado_porcentaje + 0.0225 * (dimensionado_porcentaje**2)    \n",
    "\n",
    "    elif empresa_evaluada == \"Oficina\" and jornada_laboral == \"horario oficina sábado completo\" :\n",
    "        consumo_recomendado = 0.91 + -0.247*dimensionado_porcentaje + 0.0245 * (dimensionado_porcentaje**2)\n",
    "\n",
    "    elif empresa_evaluada == \"Oficina\" and jornada_laboral == \"horario oficina domingo completo\":  \n",
    "        consumo_recomendado = 1 + - 0.198*dimensionado_porcentaje + (-1.18/1000) * (dimensionado_porcentaje**2)\n",
    "\n",
    "    elif empresa_evaluada == \"Oficina\" and jornada_laboral == \"24 hrs / 5 dias\":\n",
    "        consumo_recomendado = 0.381 + -0.103*dimensionado_porcentaje + 0.0103 * (dimensionado_porcentaje**2)\n",
    "\n",
    "    elif empresa_evaluada == \"Oficina\" and jornada_laboral == \"24 hrs / 6 dias\":\n",
    "        consumo_recomendado = 0.455 + -0.123*dimensionado_porcentaje + 0.0123 * (dimensionado_porcentaje**2)\n",
    "\n",
    "    elif empresa_evaluada == \"Oficina\" and jornada_laboral == \"24 hrs / 7 dias\":\n",
    "        consumo_recomendado = 0.5 + -0.0992*dimensionado_porcentaje + (-5.88/ 10000)* (dimensionado_porcentaje**2)\n",
    "\n",
    "    \n",
    "\n",
    "\n",
    "    #Aeropuerto\n",
    "    \n",
    "    if empresa_evaluada == \"Aeropuerto\" and jornada_laboral == \"horario oficina viernes completo\" :\n",
    "        consumo_recomendado = 1 + -0.423*dimensionado_porcentaje + 0.0771 * (dimensionado_porcentaje**2)\n",
    "\n",
    "    elif empresa_evaluada == \"Aeropuerto\" and jornada_laboral == \"horario oficina sábado medio día\" :\n",
    "        consumo_recomendado = 1 + -0.315*dimensionado_porcentaje + 0.0349 * (dimensionado_porcentaje**2)    \n",
    "\n",
    "    elif empresa_evaluada == \"Aeropuerto\" and jornada_laboral == \"horario oficina sábado completo\" :\n",
    "        consumo_recomendado = 1 + -0.207*dimensionado_porcentaje + (-7.43/1000) * (dimensionado_porcentaje**2)\n",
    "\n",
    "    elif empresa_evaluada == \"Aeropuerto\" and jornada_laboral == \"horario oficina domingo completo\":  \n",
    "        consumo_recomendado = 1 + (8/1000)*dimensionado_porcentaje + -0.092 * (dimensionado_porcentaje**2)\n",
    "\n",
    "    elif empresa_evaluada == \"Aeropuerto\" and jornada_laboral == \"24 hrs / 5 dias\":\n",
    "        consumo_recomendado = 0.381 + -0.103*dimensionado_porcentaje + 0.0103 * (dimensionado_porcentaje**2)\n",
    "\n",
    "    elif empresa_evaluada == \"Aeropuerto\" and jornada_laboral == \"24 hrs / 6 dias\":\n",
    "        consumo_recomendado = 0.651 + -0.33*dimensionado_porcentaje + 0.0716 * (dimensionado_porcentaje**2)\n",
    "\n",
    "    elif empresa_evaluada == \"Aeropuerto\" and jornada_laboral == \"24 hrs / 7 dias\":\n",
    "        consumo_recomendado = 0.759 + -0.385*dimensionado_porcentaje + 0.0835* (dimensionado_porcentaje**2)\n",
    "\n",
    "    \n",
    "    #Agrícola\n",
    "    \n",
    "    if empresa_evaluada == \"Agrícola\" and jornada_laboral == \"horario oficina viernes completo\" :\n",
    "        consumo_recomendado = 0.58 + -0.228*dimensionado_porcentaje + 0.0405 * (dimensionado_porcentaje**2)\n",
    "\n",
    "    elif empresa_evaluada == \"Agrícola\" and jornada_laboral == \"horario oficina sábado medio día\" :\n",
    "        consumo_recomendado = 0.638 + -0.251*dimensionado_porcentaje + 0.0445 * (dimensionado_porcentaje**2)    \n",
    "\n",
    "    elif empresa_evaluada == \"Agrícola\" and jornada_laboral == \"horario oficina sábado completo\" :\n",
    "        consumo_recomendado = 0.696 + -0-274*dimensionado_porcentaje + 0.0486 * (dimensionado_porcentaje**2)\n",
    "\n",
    "    elif empresa_evaluada == \"Agrícola\" and jornada_laboral == \"horario oficina domingo completo\":  \n",
    "        consumo_recomendado = 0.812 + -0.319*dimensionado_porcentaje + 0.0567 * (dimensionado_porcentaje**2)\n",
    "\n",
    "    elif empresa_evaluada == \"Agrícola\" and jornada_laboral == \"24 hrs / 5 dias\":\n",
    "        consumo_recomendado = 0.435 + -0.171*dimensionado_porcentaje + 0.0304 * (dimensionado_porcentaje**2)\n",
    "\n",
    "    elif empresa_evaluada == \"Agrícola\" and jornada_laboral == \"24 hrs / 6 dias\":\n",
    "        consumo_recomendado = 0.522 + -0.205*dimensionado_porcentaje + 0.0364 * (dimensionado_porcentaje**2)\n",
    "\n",
    "    elif empresa_evaluada == \"Agrícola\" and jornada_laboral == \"24 hrs / 7 dias\":\n",
    "        consumo_recomendado = 0.609 + -0.24*dimensionado_porcentaje + 0.0425* (dimensionado_porcentaje**2)\n",
    "\n",
    "    return consumo_recomendado"
   ]
  },
  {
   "cell_type": "code",
   "execution_count": 8,
   "metadata": {},
   "outputs": [
    {
     "data": {
      "text/plain": [
       "0.5952308809809186"
      ]
     },
     "execution_count": 8,
     "metadata": {},
     "output_type": "execute_result"
    }
   ],
   "source": [
    "autoconsumo(\"Aeropuerto\",\"horario oficina viernes completo\",dimensionado_cliente)\n"
   ]
  }
 ],
 "metadata": {
  "kernelspec": {
   "display_name": "Python 3.10.8 ('planilla-ESCO-S3Yy4gfm')",
   "language": "python",
   "name": "python3"
  },
  "language_info": {
   "codemirror_mode": {
    "name": "ipython",
    "version": 3
   },
   "file_extension": ".py",
   "mimetype": "text/x-python",
   "name": "python",
   "nbconvert_exporter": "python",
   "pygments_lexer": "ipython3",
   "version": "3.10.8"
  },
  "orig_nbformat": 4,
  "vscode": {
   "interpreter": {
    "hash": "89f4c062cb26b2786505bdc7e8bc156326ca3aeb7d13cde6e2942d25c9166513"
   }
  }
 },
 "nbformat": 4,
 "nbformat_minor": 2
}
