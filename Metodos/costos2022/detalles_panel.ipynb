{
 "cells": [
  {
   "cell_type": "code",
   "execution_count": 1,
   "metadata": {},
   "outputs": [],
   "source": [
    "import pandas as pd\n",
    "import json"
   ]
  },
  {
   "cell_type": "code",
   "execution_count": 4,
   "metadata": {},
   "outputs": [],
   "source": [
    "################## Data ###########\n",
    "#Caracteristica panel\n",
    "#Costo total anual y mantencion por vez POR CATEGORÍA ZONA\n",
    "#UF\n",
    "\n",
    "################## INPUT ##############\n",
    "#Potencia deseda\n",
    "#Categoría zona \n",
    "#Caracteristica panel elegir la caracteristica\n",
    "#costo_administracion_anual\n",
    "\n",
    "\n",
    "def detalles_panel(potencia_deseada:float, caracteristica_panel:float, categoria_zona:str, costo_administracion_anual:float) -> dict:\n",
    "    potencia_deseada = potencia_deseada \n",
    "    panel_utilizado = caracteristica_panel\n",
    "    cantidad_paneles = round((potencia_deseada * 1000)/panel_utilizado)\n",
    "    potencia_calculada = (panel_utilizado * cantidad_paneles)/1000\n",
    "\n",
    "    if categoria_zona == \"Región Atacama\":\n",
    "        mantencion_por_vez = 840987\n",
    "        costo_mantencion_total = 3363948\n",
    "    else:\n",
    "        mantencion_por_vez = 840987\n",
    "        costo_mantencion_total = 3363948\n",
    "\n",
    "    \n",
    "    costo_administracion_anual = costo_administracion_anual\n",
    "    uf = 34326\n",
    "    costo_total_anual_om = costo_mantencion_total + costo_administracion_anual\n",
    "\n",
    "    detalles_panel = []\n",
    "    detalles_panel.append ({\n",
    "        \"Potencia Deseada\" : potencia_deseada,\n",
    "        \"Panel Utilizado\" : panel_utilizado,\n",
    "        \"Cantidad de Paneles\" : cantidad_paneles,\n",
    "        \"Potencia Calculada\" : potencia_calculada,\n",
    "        \"Costo Mantencion por vez\" : mantencion_por_vez,\n",
    "        \"Costo Mantencion total\" : costo_mantencion_total,\n",
    "        \"Costo de Administracion anual\" : costo_administracion_anual, \n",
    "        \"UF Hoy\" : uf,\n",
    "        \"Costo total Anual O&M\" :  costo_total_anual_om\n",
    "\n",
    "    })\n",
    "\n",
    "    return detalles_panel\n",
    "    \n",
    "\n",
    "\n",
    "\n",
    "\n",
    "\n",
    "\n",
    "\n"
   ]
  },
  {
   "cell_type": "code",
   "execution_count": 3,
   "metadata": {},
   "outputs": [
    {
     "data": {
      "text/html": [
       "<div>\n",
       "<style scoped>\n",
       "    .dataframe tbody tr th:only-of-type {\n",
       "        vertical-align: middle;\n",
       "    }\n",
       "\n",
       "    .dataframe tbody tr th {\n",
       "        vertical-align: top;\n",
       "    }\n",
       "\n",
       "    .dataframe thead th {\n",
       "        text-align: right;\n",
       "    }\n",
       "</style>\n",
       "<table border=\"1\" class=\"dataframe\">\n",
       "  <thead>\n",
       "    <tr style=\"text-align: right;\">\n",
       "      <th></th>\n",
       "      <th>Potencia Deseada</th>\n",
       "      <th>Panel Utilizado</th>\n",
       "      <th>Cantidad de Paneles</th>\n",
       "      <th>Potencia Calculada</th>\n",
       "      <th>Costo Mantencion por vez</th>\n",
       "      <th>Costo Mantencion total</th>\n",
       "      <th>Costo de Administracion anual</th>\n",
       "      <th>UF Hoy</th>\n",
       "      <th>Costo total Anual O&amp;M</th>\n",
       "    </tr>\n",
       "  </thead>\n",
       "  <tbody>\n",
       "    <tr>\n",
       "      <th>0</th>\n",
       "      <td>260</td>\n",
       "      <td>540</td>\n",
       "      <td>481</td>\n",
       "      <td>259.74</td>\n",
       "      <td>840987</td>\n",
       "      <td>3363948</td>\n",
       "      <td>200000</td>\n",
       "      <td>34326</td>\n",
       "      <td>3563948</td>\n",
       "    </tr>\n",
       "  </tbody>\n",
       "</table>\n",
       "</div>"
      ],
      "text/plain": [
       "   Potencia Deseada  Panel Utilizado  Cantidad de Paneles  Potencia Calculada  \\\n",
       "0               260              540                  481              259.74   \n",
       "\n",
       "   Costo Mantencion por vez  Costo Mantencion total  \\\n",
       "0                    840987                 3363948   \n",
       "\n",
       "   Costo de Administracion anual  UF Hoy  Costo total Anual O&M  \n",
       "0                         200000   34326                3563948  "
      ]
     },
     "execution_count": 3,
     "metadata": {},
     "output_type": "execute_result"
    }
   ],
   "source": [
    "detalles_panel_metodo = detalles_panel(260, 540, \"Región Atacama\", 200000 )\n",
    "\n",
    "data_detalles_panel=pd.DataFrame(detalles_panel_metodo)\n",
    "data_detalles_panel"
   ]
  }
 ],
 "metadata": {
  "kernelspec": {
   "display_name": "Python 3.9.11 ('Alfacom-2TusFL1c')",
   "language": "python",
   "name": "python3"
  },
  "language_info": {
   "codemirror_mode": {
    "name": "ipython",
    "version": 3
   },
   "file_extension": ".py",
   "mimetype": "text/x-python",
   "name": "python",
   "nbconvert_exporter": "python",
   "pygments_lexer": "ipython3",
   "version": "3.9.11"
  },
  "orig_nbformat": 4,
  "vscode": {
   "interpreter": {
    "hash": "8fad18daf7002477b0b439e2f7c76a704d1803c29cecb5f7334697dd5084d1e6"
   }
  }
 },
 "nbformat": 4,
 "nbformat_minor": 2
}
