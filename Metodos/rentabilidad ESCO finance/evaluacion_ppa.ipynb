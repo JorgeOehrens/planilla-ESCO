{
 "cells": [
  {
   "cell_type": "code",
   "execution_count": 32,
   "metadata": {},
   "outputs": [],
   "source": [
    "import pandas as pd\n",
    "import json\n"
   ]
  },
  {
   "cell_type": "code",
   "execution_count": 33,
   "metadata": {},
   "outputs": [],
   "source": [
    "## Generacion_anual_anos()\n",
    "#generacion_ano_por_ano\n",
    "\n",
    "## Estimación precio DATA\n",
    "#precio_estim_nominal_energia\n",
    "\n",
    "##Detalles_panel()\n",
    "#costo_anual_om\n",
    "\n",
    "##caculo_financiamiento()\n",
    "#dict\n",
    "\n",
    "\n",
    "\n",
    "with open('../../compra_directa/variables/estimacion_precio_electricidad.json') as archivo_estimacion:\n",
    "    datos_precio_electricidad_json=json.load(archivo_estimacion)\n",
    "datos_precio_electricidad=pd.DataFrame(datos_precio_electricidad_json)\n",
    "\n",
    "with open('../generacion/data/generacion_anual_anos.json') as archivo_generacion:\n",
    "    datos_generacion_anual_anos_json=json.load(archivo_generacion)\n",
    "datos_generacion_anual=pd.DataFrame(datos_generacion_anual_anos_json)\n",
    "\n",
    "with open('./data/calculo_financiamiento.json') as archivo_financiamiento:\n",
    "    datos_calculo_financiamiento_json=json.load(archivo_financiamiento)\n",
    "datos_calculo_financiamiento=pd.DataFrame(datos_calculo_financiamiento_json)\n",
    "\n",
    "with open('./data/porcentaje_evaluacion_esco_finan.json') as archivo_porcentaje:\n",
    "    datos_porcentaje_evaluacion_esco_finan_json=json.load(archivo_porcentaje)\n",
    "datos_porcentaje_evaluacion_esco=pd.DataFrame(datos_porcentaje_evaluacion_esco_finan_json)\n"
   ]
  },
  {
   "cell_type": "code",
   "execution_count": 34,
   "metadata": {},
   "outputs": [
    {
     "data": {
      "text/plain": [
       "50973981.11111111"
      ]
     },
     "execution_count": 34,
     "metadata": {},
     "output_type": "execute_result"
    }
   ],
   "source": [
    "equity=datos_porcentaje_evaluacion_esco[\"Equity\"][0][1]\n",
    "equity"
   ]
  },
  {
   "cell_type": "code",
   "execution_count": 35,
   "metadata": {},
   "outputs": [],
   "source": [
    "def evaluacion_ppa_esco_finance(datos_generacion_anual:dict, datos_precio_electricidad:dict, costo_anual_om:float, anos:int, calculo_financiamiento:dict, equity:float):\n",
    "\n",
    "\n",
    "    \n",
    "    for a in range(anos):\n",
    "        if a == 0:\n",
    "            ingreso_venta_energia_ppa = 0\n",
    "            ingreso_potencia = 0\n",
    "            costo_venta = 0\n",
    "            om_admin = 0\n",
    "            recambio_equipos = 0\n",
    "            magen_bruto = 0\n",
    "            deprecacion = 0\n",
    "            ebit = 0\n",
    "            gasto_financiero = 0\n",
    "            resultado_antes_impuesto = 0\n",
    "            impuesto_renta = 0\n",
    "            utilidad_ejercicio = 0\n",
    "            amortizacion_deuda = 0\n",
    "            inversion_capital_fisico_reposicion = equity *-1\n",
    "            deprecacion=0\n",
    "            flujo_efectivo = equity *-1\n",
    "            flujo_efectivo_antes_impuesto = equity *-1\n",
    "            flujo_efectivo_acumulado = equity *-1\n",
    "\n",
    "\n",
    "\n",
    "\n",
    "    pass"
   ]
  }
 ],
 "metadata": {
  "kernelspec": {
   "display_name": "Python 3.9.11 ('Alfacom-2TusFL1c')",
   "language": "python",
   "name": "python3"
  },
  "language_info": {
   "codemirror_mode": {
    "name": "ipython",
    "version": 3
   },
   "file_extension": ".py",
   "mimetype": "text/x-python",
   "name": "python",
   "nbconvert_exporter": "python",
   "pygments_lexer": "ipython3",
   "version": "3.9.11"
  },
  "orig_nbformat": 4,
  "vscode": {
   "interpreter": {
    "hash": "8fad18daf7002477b0b439e2f7c76a704d1803c29cecb5f7334697dd5084d1e6"
   }
  }
 },
 "nbformat": 4,
 "nbformat_minor": 2
}
