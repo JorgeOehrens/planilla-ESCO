{
 "cells": [
  {
   "cell_type": "code",
   "execution_count": null,
   "metadata": {},
   "outputs": [],
   "source": [
    "## Generacion_anual_anos()\n",
    "#generacion_ano_por_mes\n",
    "\n",
    "## Estimación precio DATA\n",
    "#precio_estim_nominal_energia\n"
   ]
  }
 ],
 "metadata": {
  "kernelspec": {
   "display_name": "Python 3.10.8 64-bit",
   "language": "python",
   "name": "python3"
  },
  "language_info": {
   "name": "python",
   "version": "3.10.8"
  },
  "orig_nbformat": 4,
  "vscode": {
   "interpreter": {
    "hash": "cbd7f2b72f322aea638662bd998d891a0f9bc0f4f229528bfb026125b061dc2c"
   }
  }
 },
 "nbformat": 4,
 "nbformat_minor": 2
}
