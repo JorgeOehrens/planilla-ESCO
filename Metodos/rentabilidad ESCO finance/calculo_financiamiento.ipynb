{
 "cells": [
  {
   "cell_type": "code",
   "execution_count": 1,
   "metadata": {},
   "outputs": [],
   "source": [
    "import numpy_financial as npf\n",
    "import pandas as pd\n",
    "import json\n"
   ]
  },
  {
   "cell_type": "code",
   "execution_count": 2,
   "metadata": {},
   "outputs": [],
   "source": [
    "#caracteristica_instalacion()\n",
    "## plazo\n",
    "## valor_deuda\n",
    "## tasa_interes\n",
    "\n",
    "\n",
    "\n",
    "\n",
    "\n",
    "\n",
    "\n",
    "def calculo_financiamiento(plazo:int, valor_deuda: float, tasa_interes:float ):\n",
    "\n",
    "    calculo_financiamiento= []\n",
    "\n",
    "    for a in range(plazo):\n",
    "        if int(a) == 0:\n",
    "            capital = valor_deuda * -1\n",
    "            cuota = npf.pmt(tasa_interes , plazo, valor_deuda)\n",
    "            pago_intereses = capital * tasa_interes\n",
    "            amortizacion = cuota - pago_intereses\n",
    "\n",
    "\n",
    "            calculo_financiamiento.append({\n",
    "                \"Ano\" : a+1,\n",
    "                \"Capital\": round(capital),\n",
    "                \"Cuota\": round(cuota),\n",
    "                \"Pago intereses\": round(pago_intereses),\n",
    "                \"Amortizacion\": round(amortizacion)\n",
    "            })\n",
    "\n",
    "        else:\n",
    "            capital_anterior = calculo_financiamiento[a-1][\"Capital\"]\n",
    "            amortizacion_anterior = calculo_financiamiento[a-1][\"Amortizacion\"]\n",
    "            capital = capital_anterior - amortizacion_anterior\n",
    "            cuota = cuota\n",
    "            pago_interes = capital * tasa_interes\n",
    "            amortizacion = cuota - pago_interes\n",
    "\n",
    "            calculo_financiamiento.append({\n",
    "                \"Ano\" : a+1,\n",
    "                \"Capital\": round(capital),\n",
    "                \"Cuota\": round(cuota),\n",
    "                \"Pago intereses\": round(pago_interes),\n",
    "                \"Amortizacion\": round(amortizacion)\n",
    "            })\n",
    "        \n",
    "    return calculo_financiamiento\n",
    "\n",
    "\n",
    "\n"
   ]
  },
  {
   "cell_type": "code",
   "execution_count": 3,
   "metadata": {},
   "outputs": [
    {
     "data": {
      "text/html": [
       "<div>\n",
       "<style scoped>\n",
       "    .dataframe tbody tr th:only-of-type {\n",
       "        vertical-align: middle;\n",
       "    }\n",
       "\n",
       "    .dataframe tbody tr th {\n",
       "        vertical-align: top;\n",
       "    }\n",
       "\n",
       "    .dataframe thead th {\n",
       "        text-align: right;\n",
       "    }\n",
       "</style>\n",
       "<table border=\"1\" class=\"dataframe\">\n",
       "  <thead>\n",
       "    <tr style=\"text-align: right;\">\n",
       "      <th></th>\n",
       "      <th>Ano</th>\n",
       "      <th>Capital</th>\n",
       "      <th>Cuota</th>\n",
       "      <th>Pago intereses</th>\n",
       "      <th>Amortizacion</th>\n",
       "    </tr>\n",
       "  </thead>\n",
       "  <tbody>\n",
       "    <tr>\n",
       "      <th>0</th>\n",
       "      <td>1</td>\n",
       "      <td>-152921943</td>\n",
       "      <td>-29451523</td>\n",
       "      <td>-16439109</td>\n",
       "      <td>-13012414</td>\n",
       "    </tr>\n",
       "    <tr>\n",
       "      <th>1</th>\n",
       "      <td>2</td>\n",
       "      <td>-139909529</td>\n",
       "      <td>-29451523</td>\n",
       "      <td>-15040274</td>\n",
       "      <td>-14411249</td>\n",
       "    </tr>\n",
       "    <tr>\n",
       "      <th>2</th>\n",
       "      <td>3</td>\n",
       "      <td>-125498280</td>\n",
       "      <td>-29451523</td>\n",
       "      <td>-13491065</td>\n",
       "      <td>-15960458</td>\n",
       "    </tr>\n",
       "    <tr>\n",
       "      <th>3</th>\n",
       "      <td>4</td>\n",
       "      <td>-109537822</td>\n",
       "      <td>-29451523</td>\n",
       "      <td>-11775316</td>\n",
       "      <td>-17676207</td>\n",
       "    </tr>\n",
       "    <tr>\n",
       "      <th>4</th>\n",
       "      <td>5</td>\n",
       "      <td>-91861615</td>\n",
       "      <td>-29451523</td>\n",
       "      <td>-9875124</td>\n",
       "      <td>-19576400</td>\n",
       "    </tr>\n",
       "    <tr>\n",
       "      <th>5</th>\n",
       "      <td>6</td>\n",
       "      <td>-72285215</td>\n",
       "      <td>-29451523</td>\n",
       "      <td>-7770661</td>\n",
       "      <td>-21680863</td>\n",
       "    </tr>\n",
       "    <tr>\n",
       "      <th>6</th>\n",
       "      <td>7</td>\n",
       "      <td>-50604352</td>\n",
       "      <td>-29451523</td>\n",
       "      <td>-5439968</td>\n",
       "      <td>-24011555</td>\n",
       "    </tr>\n",
       "    <tr>\n",
       "      <th>7</th>\n",
       "      <td>8</td>\n",
       "      <td>-26592797</td>\n",
       "      <td>-29451523</td>\n",
       "      <td>-2858726</td>\n",
       "      <td>-26592797</td>\n",
       "    </tr>\n",
       "  </tbody>\n",
       "</table>\n",
       "</div>"
      ],
      "text/plain": [
       "   Ano    Capital     Cuota  Pago intereses  Amortizacion\n",
       "0    1 -152921943 -29451523       -16439109     -13012414\n",
       "1    2 -139909529 -29451523       -15040274     -14411249\n",
       "2    3 -125498280 -29451523       -13491065     -15960458\n",
       "3    4 -109537822 -29451523       -11775316     -17676207\n",
       "4    5  -91861615 -29451523        -9875124     -19576400\n",
       "5    6  -72285215 -29451523        -7770661     -21680863\n",
       "6    7  -50604352 -29451523        -5439968     -24011555\n",
       "7    8  -26592797 -29451523        -2858726     -26592797"
      ]
     },
     "execution_count": 3,
     "metadata": {},
     "output_type": "execute_result"
    }
   ],
   "source": [
    "calculo_financiamiento_met = calculo_financiamiento(8, 152921943, 0.1075)\n",
    "data_calculo_financiamiento = pd.DataFrame(calculo_financiamiento_met)\n",
    "data_calculo_financiamiento\n",
    "\n"
   ]
  },
  {
   "cell_type": "code",
   "execution_count": 4,
   "metadata": {},
   "outputs": [],
   "source": [
    "with open('data/calculo_financiamiento.json', 'w') as file:\n",
    "        json.dump(calculo_financiamiento_met, file, indent=4)"
   ]
  },
  {
   "cell_type": "code",
   "execution_count": 5,
   "metadata": {},
   "outputs": [
    {
     "name": "stdout",
     "output_type": "stream",
     "text": [
      "-29451523.0\n"
     ]
    }
   ],
   "source": [
    "import numpy_financial as npf\n",
    "\n",
    "meses=8*12\n",
    "\n",
    "\n",
    "cuota = npf.pmt(0.1075, 8, 152921943)\n",
    "print(round(cuota, 0))"
   ]
  }
 ],
 "metadata": {
  "kernelspec": {
   "display_name": "Python 3.9.11 ('Alfacom-2TusFL1c')",
   "language": "python",
   "name": "python3"
  },
  "language_info": {
   "codemirror_mode": {
    "name": "ipython",
    "version": 3
   },
   "file_extension": ".py",
   "mimetype": "text/x-python",
   "name": "python",
   "nbconvert_exporter": "python",
   "pygments_lexer": "ipython3",
   "version": "3.9.11"
  },
  "orig_nbformat": 4,
  "vscode": {
   "interpreter": {
    "hash": "8fad18daf7002477b0b439e2f7c76a704d1803c29cecb5f7334697dd5084d1e6"
   }
  }
 },
 "nbformat": 4,
 "nbformat_minor": 2
}
