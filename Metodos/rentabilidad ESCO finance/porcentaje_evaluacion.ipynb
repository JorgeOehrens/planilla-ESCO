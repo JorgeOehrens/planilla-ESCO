{
 "cells": [
  {
   "cell_type": "code",
   "execution_count": 11,
   "metadata": {},
   "outputs": [],
   "source": [
    "import pandas as pd\n",
    "import json"
   ]
  },
  {
   "cell_type": "code",
   "execution_count": 12,
   "metadata": {},
   "outputs": [],
   "source": [
    "#caracteristica_instalacion()\n",
    "## costo_total\n",
    "\n",
    "###################### Crear una evaluacion para los presupuest de 12 y 15 años (8 años) , también para evaluacion de 20 y 25 años (10 años)\n",
    "\n",
    "def porcentaje_evaluacion_esco_finan(costo_total:float, capex_total: float, deuda:float, equity: float,  tasa_interes:float, plazo:int )-> dict:\n",
    "    porcentaje_capex = capex_total\n",
    "    valor_capex = costo_total/(1 - porcentaje_capex)\n",
    "    \n",
    "    porcentaje_deuda =  deuda\n",
    "    valor_deuda = valor_capex * porcentaje_deuda\n",
    "\n",
    "    porcentaje_equity = equity\n",
    "    valor_equity = valor_capex * porcentaje_equity\n",
    "\n",
    "    tasa_interes = tasa_interes\n",
    "    plazo = plazo \n",
    "\n",
    "    detalle_porcentaje_evaluacion_esco_finan = []\n",
    "    detalle_porcentaje_evaluacion_esco_finan.append ({\n",
    "        \"Capex total\": [\n",
    "            porcentaje_capex,\n",
    "            valor_capex\n",
    "        ],\n",
    "        \"Deuda\": [\n",
    "            porcentaje_deuda,\n",
    "            valor_deuda\n",
    "        ],\n",
    "        \"Equity\": [\n",
    "            porcentaje_equity,\n",
    "            valor_equity\n",
    "        ],\n",
    "        \"Tasa interes\" : tasa_interes,\n",
    "        \"Plazo\" : plazo\n",
    "    })\n",
    "\n",
    "    return detalle_porcentaje_evaluacion_esco_finan\n",
    "\n",
    "\n",
    "\n",
    "\n"
   ]
  },
  {
   "cell_type": "code",
   "execution_count": 13,
   "metadata": {},
   "outputs": [
    {
     "data": {
      "text/html": [
       "<div>\n",
       "<style scoped>\n",
       "    .dataframe tbody tr th:only-of-type {\n",
       "        vertical-align: middle;\n",
       "    }\n",
       "\n",
       "    .dataframe tbody tr th {\n",
       "        vertical-align: top;\n",
       "    }\n",
       "\n",
       "    .dataframe thead th {\n",
       "        text-align: right;\n",
       "    }\n",
       "</style>\n",
       "<table border=\"1\" class=\"dataframe\">\n",
       "  <thead>\n",
       "    <tr style=\"text-align: right;\">\n",
       "      <th></th>\n",
       "      <th>Capex total</th>\n",
       "      <th>Deuda</th>\n",
       "      <th>Equity</th>\n",
       "      <th>Tasa interes</th>\n",
       "      <th>Plazo</th>\n",
       "    </tr>\n",
       "  </thead>\n",
       "  <tbody>\n",
       "    <tr>\n",
       "      <th>0</th>\n",
       "      <td>[0.1, 203895924.44444445]</td>\n",
       "      <td>[0.75, 152921943.33333334]</td>\n",
       "      <td>[0.25, 50973981.11111111]</td>\n",
       "      <td>0.108</td>\n",
       "      <td>8</td>\n",
       "    </tr>\n",
       "  </tbody>\n",
       "</table>\n",
       "</div>"
      ],
      "text/plain": [
       "                 Capex total                       Deuda  \\\n",
       "0  [0.1, 203895924.44444445]  [0.75, 152921943.33333334]   \n",
       "\n",
       "                      Equity  Tasa interes  Plazo  \n",
       "0  [0.25, 50973981.11111111]         0.108      8  "
      ]
     },
     "execution_count": 13,
     "metadata": {},
     "output_type": "execute_result"
    }
   ],
   "source": [
    "porcentaje_evaluacion_esco_finan_meto = porcentaje_evaluacion_esco_finan(183506332.0, 0.1 , 0.75, 0.25 , 0.108, 8 )\n",
    "\n",
    "\n",
    "datos_porcentaje_evaluacion_esco_finan=pd.DataFrame(porcentaje_evaluacion_esco_finan_meto)\n",
    "datos_porcentaje_evaluacion_esco_finan"
   ]
  },
  {
   "cell_type": "code",
   "execution_count": 14,
   "metadata": {},
   "outputs": [
    {
     "data": {
      "text/plain": [
       "203895924.44444445"
      ]
     },
     "execution_count": 14,
     "metadata": {},
     "output_type": "execute_result"
    }
   ],
   "source": [
    "datos_porcentaje_evaluacion_esco_finan[\"Capex total\"][0][1]"
   ]
  },
  {
   "cell_type": "code",
   "execution_count": 15,
   "metadata": {},
   "outputs": [],
   "source": [
    "with open('data/porcentaje_evaluacion_esco_finan.json', 'w') as file:\n",
    "        json.dump(porcentaje_evaluacion_esco_finan_meto, file, indent=4)"
   ]
  }
 ],
 "metadata": {
  "kernelspec": {
   "display_name": "Python 3.9.11 ('Alfacom-2TusFL1c')",
   "language": "python",
   "name": "python3"
  },
  "language_info": {
   "codemirror_mode": {
    "name": "ipython",
    "version": 3
   },
   "file_extension": ".py",
   "mimetype": "text/x-python",
   "name": "python",
   "nbconvert_exporter": "python",
   "pygments_lexer": "ipython3",
   "version": "3.9.11"
  },
  "orig_nbformat": 4,
  "vscode": {
   "interpreter": {
    "hash": "8fad18daf7002477b0b439e2f7c76a704d1803c29cecb5f7334697dd5084d1e6"
   }
  }
 },
 "nbformat": 4,
 "nbformat_minor": 2
}
