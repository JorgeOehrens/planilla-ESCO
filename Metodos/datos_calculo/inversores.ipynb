{
 "cells": [
  {
   "cell_type": "code",
   "execution_count": 2,
   "metadata": {},
   "outputs": [],
   "source": [
    "import pandas as pd\n",
    "import json"
   ]
  },
  {
   "cell_type": "code",
   "execution_count": 3,
   "metadata": {},
   "outputs": [],
   "source": [
    "\n",
    "with open('../../compra_directa/variables/factores.json') as archivo_factores:\n",
    "    datos_factores_json=json.load(archivo_factores)\n",
    "datos_factores=pd.DataFrame(datos_factores_json)\n",
    "\n",
    "\n",
    "def inversores(potencia_deseada:float, datos_factores: dict ) -> dict:\n",
    "    #POTENCIA INVERSORES\n",
    "    pontencia_inversores=datos_factores[\"Pdc max (kWp)\"]\n",
    "    contador=0\n",
    "    potencia_peak=160\n",
    "    for a in pontencia_inversores:\n",
    "        potencia_inversor = a\n",
    "\n",
    "        if contador == 0:\n",
    "            if potencia_peak <=a:\n",
    "                inversor = a\n",
    "                break\n",
    "            \n",
    "            potencia_inversor_anterior=a\n",
    "        else:\n",
    "            if potencia_peak <= a and potencia_peak > potencia_inversor_anterior:\n",
    "                inversor = a\n",
    "\n",
    "                break\n",
    "            else:\n",
    "                potencia_inversor_anterior=a\n",
    "        contador +=1\n",
    "\n",
    "\n",
    "    pdc_max= inversor\n",
    "\n",
    "    for a in datos_factores:\n",
    "        combina_inversores=datos_factores[\"Combinacion de inversores\"][contador]\n",
    "        pontencia_kWac=datos_factores[\"Potencia kWAC\"][contador]\n",
    "\n",
    "        \n",
    "\n",
    "    pontencia_kWac=int(pontencia_kWac)\n",
    "    detalles_inversores = []\n",
    "    detalles_inversores.append ({\n",
    "        \"Potencia inversores\" : pontencia_kWac,\n",
    "        \"Combinacion inversores\" :  combina_inversores\n",
    "\n",
    "\n",
    "    })\n",
    "    return detalles_inversores\n",
    "\n"
   ]
  },
  {
   "cell_type": "code",
   "execution_count": 4,
   "metadata": {},
   "outputs": [
    {
     "data": {
      "text/html": [
       "<div>\n",
       "<style scoped>\n",
       "    .dataframe tbody tr th:only-of-type {\n",
       "        vertical-align: middle;\n",
       "    }\n",
       "\n",
       "    .dataframe tbody tr th {\n",
       "        vertical-align: top;\n",
       "    }\n",
       "\n",
       "    .dataframe thead th {\n",
       "        text-align: right;\n",
       "    }\n",
       "</style>\n",
       "<table border=\"1\" class=\"dataframe\">\n",
       "  <thead>\n",
       "    <tr style=\"text-align: right;\">\n",
       "      <th></th>\n",
       "      <th>Potencia inversores</th>\n",
       "      <th>Combinacion inversores</th>\n",
       "    </tr>\n",
       "  </thead>\n",
       "  <tbody>\n",
       "    <tr>\n",
       "      <th>0</th>\n",
       "      <td>210</td>\n",
       "      <td>GW80K-MT + GW80K-MT + GW50KN-MT</td>\n",
       "    </tr>\n",
       "  </tbody>\n",
       "</table>\n",
       "</div>"
      ],
      "text/plain": [
       "   Potencia inversores           Combinacion inversores\n",
       "0                  210  GW80K-MT + GW80K-MT + GW50KN-MT"
      ]
     },
     "execution_count": 4,
     "metadata": {},
     "output_type": "execute_result"
    }
   ],
   "source": [
    "inversores_met=inversores( 260, datos_factores)\n",
    "data_inversores=pd.DataFrame(inversores_met)\n",
    "\n",
    "data_inversores"
   ]
  }
 ],
 "metadata": {
  "kernelspec": {
   "display_name": "Python 3.9.11 ('Alfacom-2TusFL1c')",
   "language": "python",
   "name": "python3"
  },
  "language_info": {
   "codemirror_mode": {
    "name": "ipython",
    "version": 3
   },
   "file_extension": ".py",
   "mimetype": "text/x-python",
   "name": "python",
   "nbconvert_exporter": "python",
   "pygments_lexer": "ipython3",
   "version": "3.9.11"
  },
  "orig_nbformat": 4,
  "vscode": {
   "interpreter": {
    "hash": "8fad18daf7002477b0b439e2f7c76a704d1803c29cecb5f7334697dd5084d1e6"
   }
  }
 },
 "nbformat": 4,
 "nbformat_minor": 2
}
