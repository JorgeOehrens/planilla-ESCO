{
 "cells": [
  {
   "cell_type": "markdown",
   "metadata": {},
   "source": [
    "## Input\n"
   ]
  },
  {
   "cell_type": "code",
   "execution_count": 4,
   "metadata": {},
   "outputs": [],
   "source": [
    "import pandas as pd"
   ]
  },
  {
   "cell_type": "code",
   "execution_count": 5,
   "metadata": {},
   "outputs": [],
   "source": [
    "def tarifa(distribuidora: str, n_cliente: int,  tipo_tarifa:str , consumo:float, transporte:float  ):\n",
    "    distribuidora = distribuidora\n",
    "    n_cliente = n_cliente\n",
    "    tipo_tarifa = tipo_tarifa\n",
    "    consumo = consumo / 1.19\n",
    "    trasporte = (transporte/1.19) + 0.508\n",
    "    inyeccion = consumo\n",
    "    costo_total = consumo + trasporte\n",
    "\n",
    "\n",
    "    detalle_tarifa = []\n",
    "    detalle_tarifa.append ({\n",
    "\n",
    "        \"Distribuidora\" :  distribuidora,\n",
    "        \"Nº de cliente\" : n_cliente,\n",
    "        \"Tipo de tarifa\" : tipo_tarifa,\n",
    "        \"Consumo\" : consumo,\n",
    "        \"Transporte, servicio, etc\" : trasporte,\n",
    "        \"Inyeccion\" : inyeccion , \n",
    "        \"Costo total\" : costo_total\n",
    "    })\n",
    "    \n",
    "    return detalle_tarifa\n"
   ]
  },
  {
   "cell_type": "code",
   "execution_count": 6,
   "metadata": {},
   "outputs": [
    {
     "data": {
      "text/html": [
       "<div>\n",
       "<style scoped>\n",
       "    .dataframe tbody tr th:only-of-type {\n",
       "        vertical-align: middle;\n",
       "    }\n",
       "\n",
       "    .dataframe tbody tr th {\n",
       "        vertical-align: top;\n",
       "    }\n",
       "\n",
       "    .dataframe thead th {\n",
       "        text-align: right;\n",
       "    }\n",
       "</style>\n",
       "<table border=\"1\" class=\"dataframe\">\n",
       "  <thead>\n",
       "    <tr style=\"text-align: right;\">\n",
       "      <th></th>\n",
       "      <th>Distribuidora</th>\n",
       "      <th>Nº de cliente</th>\n",
       "      <th>Tipo de tarifa</th>\n",
       "      <th>Consumo</th>\n",
       "      <th>Transporte, servicio, etc</th>\n",
       "      <th>Inyeccion</th>\n",
       "      <th>Costo total</th>\n",
       "    </tr>\n",
       "  </thead>\n",
       "  <tbody>\n",
       "    <tr>\n",
       "      <th>0</th>\n",
       "      <td>Flux Solar</td>\n",
       "      <td>980</td>\n",
       "      <td>Dinamica</td>\n",
       "      <td>72.1</td>\n",
       "      <td>19.206319</td>\n",
       "      <td>72.1</td>\n",
       "      <td>91.306319</td>\n",
       "    </tr>\n",
       "  </tbody>\n",
       "</table>\n",
       "</div>"
      ],
      "text/plain": [
       "  Distribuidora  Nº de cliente Tipo de tarifa  Consumo  \\\n",
       "0    Flux Solar            980       Dinamica     72.1   \n",
       "\n",
       "   Transporte, servicio, etc  Inyeccion  Costo total  \n",
       "0                  19.206319       72.1    91.306319  "
      ]
     },
     "execution_count": 6,
     "metadata": {},
     "output_type": "execute_result"
    }
   ],
   "source": [
    "tarifa_met = tarifa (\"Flux Solar\", 980, \"Dinamica\", 85.799, 22.251)\n",
    "\n",
    "data_tarifa = pd.DataFrame(tarifa_met)\n",
    "data_tarifa\n"
   ]
  }
 ],
 "metadata": {
  "kernelspec": {
   "display_name": "Python 3.9.11 ('Alfacom-2TusFL1c')",
   "language": "python",
   "name": "python3"
  },
  "language_info": {
   "codemirror_mode": {
    "name": "ipython",
    "version": 3
   },
   "file_extension": ".py",
   "mimetype": "text/x-python",
   "name": "python",
   "nbconvert_exporter": "python",
   "pygments_lexer": "ipython3",
   "version": "3.9.11"
  },
  "orig_nbformat": 4,
  "vscode": {
   "interpreter": {
    "hash": "8fad18daf7002477b0b439e2f7c76a704d1803c29cecb5f7334697dd5084d1e6"
   }
  }
 },
 "nbformat": 4,
 "nbformat_minor": 2
}
