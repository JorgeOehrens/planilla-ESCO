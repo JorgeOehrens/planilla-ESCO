{
 "cells": [
  {
   "cell_type": "code",
   "execution_count": 1,
   "metadata": {},
   "outputs": [],
   "source": [
    "AUMENTO_GENERACION=1.045\n",
    "\n",
    "#CONSTANTES DEPENDIENDO DE COMUNA\n",
    "\n",
    "#################### INPUT #################\n",
    "\n",
    "# categoria_tipo_montaje \n",
    "# comuna\n",
    "################### ########################\n",
    "\n",
    "def generacion_especifica (aumento_generacion:float, categoria_tipo_montaje:str, comuna:str)-> float:\n",
    "\n",
    "    if comuna == \"Alto del carmen\":\n",
    "        factor_coplanar = 0.950\n",
    "        pes_correj_flux = 1775\n",
    "    \n",
    "    if categoria_tipo_montaje == \"Techo coplanar\":\n",
    "\n",
    "        valor_generacion_especifica = factor_coplanar * aumento_generacion * pes_correj_flux\n",
    "\n",
    "    else: \n",
    "        valor_generacion_especifica = aumento_generacion * pes_correj_flux\n",
    "\n",
    "    return valor_generacion_especifica"
   ]
  },
  {
   "cell_type": "code",
   "execution_count": 2,
   "metadata": {},
   "outputs": [
    {
     "data": {
      "text/plain": [
       "1762.13125"
      ]
     },
     "execution_count": 2,
     "metadata": {},
     "output_type": "execute_result"
    }
   ],
   "source": [
    "generacion_especifica(AUMENTO_GENERACION,\"Techo coplanar\",\"Alto del carmen\")"
   ]
  }
 ],
 "metadata": {
  "kernelspec": {
   "display_name": "Python 3.10.8 64-bit",
   "language": "python",
   "name": "python3"
  },
  "language_info": {
   "codemirror_mode": {
    "name": "ipython",
    "version": 3
   },
   "file_extension": ".py",
   "mimetype": "text/x-python",
   "name": "python",
   "nbconvert_exporter": "python",
   "pygments_lexer": "ipython3",
   "version": "3.10.8"
  },
  "orig_nbformat": 4,
  "vscode": {
   "interpreter": {
    "hash": "cbd7f2b72f322aea638662bd998d891a0f9bc0f4f229528bfb026125b061dc2c"
   }
  }
 },
 "nbformat": 4,
 "nbformat_minor": 2
}
