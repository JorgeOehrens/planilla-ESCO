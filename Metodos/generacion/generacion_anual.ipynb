{
 "cells": [
  {
   "cell_type": "code",
   "execution_count": 3,
   "metadata": {},
   "outputs": [],
   "source": [
    "##detalle_panel()\n",
    "#potencia_calculada\n",
    "\n",
    "##generacion_especifica ()\n",
    "#gene_especifica\n",
    "\n",
    "def generacion_anual(potencia_calculada:float, generacion_especifica: float ) -> float : \n",
    "    return potencia_calculada * generacion_especifica\n",
    "\n",
    "\n"
   ]
  },
  {
   "cell_type": "code",
   "execution_count": 4,
   "metadata": {},
   "outputs": [
    {
     "data": {
      "text/plain": [
       "457695.970875"
      ]
     },
     "execution_count": 4,
     "metadata": {},
     "output_type": "execute_result"
    }
   ],
   "source": [
    "generacion_anual(259.74,1762.13125)"
   ]
  }
 ],
 "metadata": {
  "kernelspec": {
   "display_name": "Python 3.9.11 ('Alfacom-2TusFL1c')",
   "language": "python",
   "name": "python3"
  },
  "language_info": {
   "codemirror_mode": {
    "name": "ipython",
    "version": 3
   },
   "file_extension": ".py",
   "mimetype": "text/x-python",
   "name": "python",
   "nbconvert_exporter": "python",
   "pygments_lexer": "ipython3",
   "version": "3.9.11"
  },
  "orig_nbformat": 4,
  "vscode": {
   "interpreter": {
    "hash": "8fad18daf7002477b0b439e2f7c76a704d1803c29cecb5f7334697dd5084d1e6"
   }
  }
 },
 "nbformat": 4,
 "nbformat_minor": 2
}
